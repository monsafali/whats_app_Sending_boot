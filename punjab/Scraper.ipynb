{
 "cells": [
  {
   "cell_type": "code",
   "execution_count": 7,
   "metadata": {},
   "outputs": [],
   "source": [
    "from selenium import webdriver\n",
    "from selenium.webdriver.chrome.service import Service as ChromeService\n",
    "from webdriver_manager.chrome import ChromeDriverManager\n",
    "import csv\n",
    "import time\n",
    "from selenium.common.exceptions import NoSuchElementException, ElementNotInteractableException\n",
    "from selenium.webdriver.common.by import By\n",
    "driver = webdriver.Chrome(service=ChromeService(ChromeDriverManager().install()))\n",
    "import time\n",
    "driver.get(\"https://pser.punjab.gov.pk/login\")\n",
    "driver.find_element(By.XPATH,'//form[@method=\"POST\"]//input[@name=\"username\"]').send_keys('3110312304391')\n",
    "driver.find_element(By.XPATH,'//form[@method=\"POST\"]//input[@name=\"password\"]').send_keys('Akhtar@1234')\n",
    "driver.find_element(By.CLASS_NAME, \"loginPserBtn\").click()\n",
    "\n",
    "# chatgpt code\n",
    "second_div = driver.find_element(By.XPATH, '(//div[@class=\"col-lg-6 col-xl-6 py-2\"])[2]')\n",
    "second_div.click()\n",
    "option = driver.find_element(By.XPATH, '//select[@class=\"form-select form-select-sm\"]/option[@value=\"100\"]')\n",
    "option.click()\n"
   ]
  },
  {
   "cell_type": "code",
   "execution_count": 9,
   "metadata": {},
   "outputs": [
    {
     "name": "stdout",
     "output_type": "stream",
     "text": [
      "✅ Data scraping completed and saved to all_pages_data.csv\n",
      "✅ name_cnic_phone.csv file saved successfully.\n"
     ]
    }
   ],
   "source": [
    "\n",
    "\n",
    "data = []\n",
    "\n",
    "while True:\n",
    "    # Scrape table data\n",
    "    rows = driver.find_elements(By.CSS_SELECTOR, \"tbody tr\")\n",
    "    for row in rows:\n",
    "        tds = row.find_elements(By.TAG_NAME, \"td\")\n",
    "        name = tds[2].text\n",
    "        cnic = tds[3].text\n",
    "        phone = tds[4].text.strip()\n",
    "        if not phone.startswith(\"92\"):\n",
    "             phone = \"92\" + phone.lstrip(\"0\")\n",
    "             data.append([phone,name, cnic ])\n",
    "    \n",
    "    # Try to click the \"Next\" button\n",
    "    try:\n",
    "        next_btn = driver.find_element(By.XPATH, '//li[@class=\"paginate_button page-item next\"]')\n",
    "        next_class = next_btn.get_attribute(\"class\")\n",
    "\n",
    "        if \"disabled\" in next_class:\n",
    "                break\n",
    "\n",
    "    # Scroll and click with JavaScript\n",
    "        driver.execute_script(\"arguments[0].scrollIntoView({block: 'center'});\", next_btn)\n",
    "        time.sleep(1)\n",
    "        driver.execute_script(\"arguments[0].click();\", next_btn)\n",
    "\n",
    "        time.sleep(2)  # Wait for next page to load\n",
    "    except (NoSuchElementException, ElementNotInteractableException):\n",
    "        break\n",
    "\n",
    "# Save to CSV\n",
    "with open(\"all_pages_data.csv\", mode=\"w\", newline='', encoding='utf-8') as file:\n",
    "    writer = csv.writer(file)\n",
    "    writer.writerow([\"Phone\",\"Name\", \"CNIC\", ])\n",
    "    writer.writerows(data)\n",
    "\n",
    "print(\"✅ Data scraping completed and saved to all_pages_data.csv\")\n",
    "\n",
    "\n",
    "\n",
    "\n",
    "# Save to second CSV with name_cnic format\n",
    "with open(\"name_cnic_phone.csv\", mode=\"w\", newline='', encoding='utf-8') as file2:\n",
    "    writer2 = csv.writer(file2)\n",
    "    writer2.writerow([\"name_cnic\", \"phone\"])\n",
    "    for row in data:\n",
    "        phone = row[0].strip().lower().replace(\" \", \"_\")  # optional: lowercase + underscores\n",
    "        name = row[1].strip()\n",
    "        cnic = row[2]\n",
    "        name_cnic = f\"{name}_{cnic}\"\n",
    "        writer2.writerow([name_cnic, phone])\n",
    "\n",
    "print(\"✅ name_cnic_phone.csv file saved successfully.\")\n"
   ]
  },
  {
   "cell_type": "code",
   "execution_count": null,
   "metadata": {},
   "outputs": [],
   "source": []
  }
 ],
 "metadata": {
  "kernelspec": {
   "display_name": "Python 3",
   "language": "python",
   "name": "python3"
  },
  "language_info": {
   "codemirror_mode": {
    "name": "ipython",
    "version": 3
   },
   "file_extension": ".py",
   "mimetype": "text/x-python",
   "name": "python",
   "nbconvert_exporter": "python",
   "pygments_lexer": "ipython3",
   "version": "3.11.9"
  }
 },
 "nbformat": 4,
 "nbformat_minor": 2
}
